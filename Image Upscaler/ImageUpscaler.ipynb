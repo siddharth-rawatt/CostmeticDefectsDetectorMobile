{
  "nbformat": 4,
  "nbformat_minor": 0,
  "metadata": {
    "colab": {
      "provenance": [],
      "gpuType": "T4"
    },
    "kernelspec": {
      "name": "python3",
      "display_name": "Python 3"
    },
    "language_info": {
      "name": "python"
    },
    "accelerator": "GPU"
  },
  "cells": [
    {
      "cell_type": "code",
      "source": [
        "from google.colab import drive\n",
        "import os\n",
        "\n",
        "# Mount Google Drive\n",
        "drive.mount('/content/drive')\n"
      ],
      "metadata": {
        "colab": {
          "base_uri": "https://localhost:8080/"
        },
        "id": "Dw-I8AlLGUXU",
        "outputId": "4c87c90e-5691-47ca-b91e-d5a00dd92b83"
      },
      "execution_count": null,
      "outputs": [
        {
          "output_type": "stream",
          "name": "stdout",
          "text": [
            "Drive already mounted at /content/drive; to attempt to forcibly remount, call drive.mount(\"/content/drive\", force_remount=True).\n"
          ]
        }
      ]
    },
    {
      "cell_type": "code",
      "source": [
        "input_folder = '/content/drive/MyDrive/ESRGAN_input'\n",
        "output_folder = '/content/drive/MyDrive/ESRGAN_output'\n",
        "\n",
        "import os\n",
        "os.makedirs(input_folder, exist_ok=True)\n",
        "os.makedirs(output_folder, exist_ok=True)"
      ],
      "metadata": {
        "id": "34qBoXBEpUYU"
      },
      "execution_count": null,
      "outputs": []
    },
    {
      "cell_type": "code",
      "source": [
        "# Step 1: Clone ESRGAN repository\n",
        "!git clone https://github.com/xinntao/ESRGAN.git\n",
        "%cd ESRGAN"
      ],
      "metadata": {
        "colab": {
          "base_uri": "https://localhost:8080/"
        },
        "id": "3G7VnJU3mT4I",
        "outputId": "47e3ff8d-3eac-4514-d93b-3b706bb05952"
      },
      "execution_count": null,
      "outputs": [
        {
          "output_type": "stream",
          "name": "stdout",
          "text": [
            "Cloning into 'ESRGAN'...\n",
            "remote: Enumerating objects: 225, done.\u001b[K\n",
            "remote: Counting objects: 100% (20/20), done.\u001b[K\n",
            "remote: Compressing objects: 100% (6/6), done.\u001b[K\n",
            "remote: Total 225 (delta 15), reused 14 (delta 14), pack-reused 205 (from 1)\u001b[K\n",
            "Receiving objects: 100% (225/225), 24.86 MiB | 22.95 MiB/s, done.\n",
            "Resolving deltas: 100% (85/85), done.\n",
            "/content/ESRGAN/ESRGAN\n"
          ]
        }
      ]
    },
    {
      "cell_type": "code",
      "source": [
        "# Step 2: Download the pre-trained model (RRDB_ESRGAN_x4.pth)\n",
        "!gdown --id 1TPrz5QKd8DHHt1k8SRtm6tMiPjz_Qene --output /content/ESRGAN/models/RRDB_ESRGAN_x4.pth"
      ],
      "metadata": {
        "colab": {
          "base_uri": "https://localhost:8080/"
        },
        "id": "7QQG6K0lGZS2",
        "outputId": "eb7a7aa9-e4b7-446d-cd2a-7167a769cb3c"
      },
      "execution_count": null,
      "outputs": [
        {
          "output_type": "stream",
          "name": "stdout",
          "text": [
            "/usr/local/lib/python3.11/dist-packages/gdown/__main__.py:140: FutureWarning: Option `--id` was deprecated in version 4.3.1 and will be removed in 5.0. You don't need to pass it anymore to use a file ID.\n",
            "  warnings.warn(\n",
            "Downloading...\n",
            "From: https://drive.google.com/uc?id=1TPrz5QKd8DHHt1k8SRtm6tMiPjz_Qene\n",
            "To: /content/ESRGAN/models/RRDB_ESRGAN_x4.pth\n",
            "100% 66.9M/66.9M [00:00<00:00, 74.2MB/s]\n"
          ]
        }
      ]
    },
    {
      "cell_type": "code",
      "source": [
        "!ls -lh /content/ESRGAN/models/\n"
      ],
      "metadata": {
        "colab": {
          "base_uri": "https://localhost:8080/"
        },
        "id": "zadygd-so3vA",
        "outputId": "032f5182-640b-459d-8649-15fb5851e83d"
      },
      "execution_count": null,
      "outputs": [
        {
          "output_type": "stream",
          "name": "stdout",
          "text": [
            "total 64M\n",
            "-rw-r--r-- 1 root root 421 Jun  9 07:54 README.md\n",
            "-rw-r--r-- 1 root root 64M Jun  2  2019 RRDB_ESRGAN_x4.pth\n"
          ]
        }
      ]
    },
    {
      "cell_type": "code",
      "source": [
        "%cd /content/ESRGAN\n",
        "!python test.py"
      ],
      "metadata": {
        "colab": {
          "base_uri": "https://localhost:8080/"
        },
        "id": "8nWE6TiprKXP",
        "outputId": "91576305-0c58-4ba9-ab82-75f1fdb4b86e"
      },
      "execution_count": null,
      "outputs": [
        {
          "output_type": "stream",
          "name": "stdout",
          "text": [
            "/content/ESRGAN\n",
            "Model path models/RRDB_ESRGAN_x4.pth. \n",
            "Testing...\n",
            "1 baboon\n",
            "[ WARN:0@2.241] global loadsave.cpp:848 imwrite_ Unsupported depth image for selected encoder is fallbacked to CV_8U.\n",
            "2 output-onlinepngtools\n",
            "3 comic\n"
          ]
        }
      ]
    },
    {
      "cell_type": "code",
      "source": [],
      "metadata": {
        "id": "IBoOIVirrR9V"
      },
      "execution_count": null,
      "outputs": []
    }
  ]
}