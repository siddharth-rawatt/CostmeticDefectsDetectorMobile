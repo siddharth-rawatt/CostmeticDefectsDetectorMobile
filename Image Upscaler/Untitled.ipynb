{
 "cells": [
  {
   "cell_type": "code",
   "execution_count": 3,
   "id": "b56958ae-4bb3-4840-843a-2b23c3a47601",
   "metadata": {},
   "outputs": [
    {
     "data": {
      "text/plain": [
       "'/Users/siddharth/Documents/Semester 4/ACES project/Modelling/Phone_Display_Setup.glb'"
      ]
     },
     "execution_count": 3,
     "metadata": {},
     "output_type": "execute_result"
    }
   ],
   "source": [
    "import numpy as np\n",
    "import trimesh\n",
    "from trimesh.creation import box, cylinder, icosphere\n",
    "\n",
    "# Create the platform (14 x 12 x 0.2 inches)\n",
    "platform = box(extents=[14, 12, 0.2])\n",
    "platform.apply_translation([0, 0, 0.1])  # Raise it above ground slightly\n",
    "\n",
    "# Create the phone (4 x 2 x 0.1 inches) as a simple box\n",
    "phone = box(extents=[4, 2, 0.1])\n",
    "phone.apply_translation([0, 0, 0.25])  # Positioned on top of platform\n",
    "\n",
    "# Create the charging cable (a cylinder)\n",
    "cable = cylinder(radius=0.05, height=6, sections=32)\n",
    "cable.apply_transform(trimesh.transformations.rotation_matrix(\n",
    "    np.radians(90), [0, 1, 0]))  # Rotate to lie horizontally\n",
    "cable.apply_translation([3, 0, 0.25])  # From phone edge to platform\n",
    "\n",
    "# Create the lighting frame (wireframe sphere) - using an icosphere approximation\n",
    "lighting_sphere = icosphere(radius=8, subdivisions=3)\n",
    "\n",
    "# Combine all parts\n",
    "scene = trimesh.Scene()\n",
    "scene.add_geometry(platform, node_name='Platform')\n",
    "scene.add_geometry(phone, node_name='Phone')\n",
    "scene.add_geometry(cable, node_name='Cable')\n",
    "scene.add_geometry(lighting_sphere, node_name='LightingFrame')\n",
    "\n",
    "# Export the full scene to a .glb (which Blender can import directly)\n",
    "output_path = \"/Users/siddharth/Documents/Semester 4/ACES project/Modelling/Phone_Display_Setup.glb\"\n",
    "scene.export(output_path)\n",
    "\n",
    "output_path\n"
   ]
  },
  {
   "cell_type": "code",
   "execution_count": 4,
   "id": "e74e5d61-b4c4-49b4-841c-f810b657076d",
   "metadata": {},
   "outputs": [
    {
     "data": {
      "text/plain": [
       "'/Users/siddharth/Documents/Semester 4/ACES project/Modelling/Multi_cam.glb'"
      ]
     },
     "execution_count": 4,
     "metadata": {},
     "output_type": "execute_result"
    }
   ],
   "source": [
    "import trimesh\n",
    "from trimesh.creation import box, cylinder, icosphere\n",
    "\n",
    "# Platform base (14 x 12 x 0.2 inches)\n",
    "platform = box(extents=[14, 12, 0.2])\n",
    "platform.apply_translation([0, 0, 0.1])\n",
    "\n",
    "# Phone (4 x 2 x 0.1 inches)\n",
    "phone = box(extents=[4, 2, 0.1])\n",
    "phone.apply_translation([0, 0, 0.25])\n",
    "\n",
    "# Dome (approximated with an icosphere scaled to half-sphere)\n",
    "dome = icosphere(radius=8, subdivisions=3)\n",
    "dome.apply_scale([1, 1, 0.5])\n",
    "dome.apply_translation([0, 0, 4.5])\n",
    "\n",
    "# Simulate 6 small cameras placed around the dome\n",
    "cameras = []\n",
    "cam_radius = 0.15\n",
    "cam_depth = 0.6\n",
    "positions = [\n",
    "    (6, 0, 2), (-6, 0, 2), (0, 5, 2), (0, -5, 2),\n",
    "    (4, 4, 3.5), (-4, -4, 3.5)\n",
    "]\n",
    "for pos in positions:\n",
    "    cam = cylinder(radius=cam_radius, height=cam_depth, sections=32)\n",
    "    cam.apply_transform(trimesh.transformations.rotation_matrix(\n",
    "        angle=3.14/2, direction=[0, 1, 0], point=[0, 0, 0]))\n",
    "    cam.apply_translation(pos)\n",
    "    cameras.append(cam)\n",
    "\n",
    "# Combine all parts\n",
    "scene = trimesh.Scene()\n",
    "scene.add_geometry(platform, node_name='Platform')\n",
    "scene.add_geometry(phone, node_name='Phone')\n",
    "scene.add_geometry(dome, node_name='Dome')\n",
    "for i, cam in enumerate(cameras):\n",
    "    scene.add_geometry(cam, node_name=f'Camera_{i+1}')\n",
    "\n",
    "# Export the model\n",
    "output_path = \"/Users/siddharth/Documents/Semester 4/ACES project/Modelling/Multi_cam.glb\"\n",
    "scene.export(output_path)\n",
    "\n",
    "output_path\n"
   ]
  },
  {
   "cell_type": "code",
   "execution_count": 1,
   "id": "e566f0b1-a8ea-4bfa-88bc-1d44278f3920",
   "metadata": {},
   "outputs": [
    {
     "name": "stdout",
     "output_type": "stream",
     "text": [
      "Collecting trimesh\n",
      "  Downloading trimesh-4.6.8-py3-none-any.whl.metadata (18 kB)\n",
      "Requirement already satisfied: numpy>=1.20 in /opt/anaconda3/lib/python3.12/site-packages (from trimesh) (1.26.4)\n",
      "Downloading trimesh-4.6.8-py3-none-any.whl (709 kB)\n",
      "\u001b[2K   \u001b[90m━━━━━━━━━━━━━━━━━━━━━━━━━━━━━━━━━━━━━━━━\u001b[0m \u001b[32m709.3/709.3 kB\u001b[0m \u001b[31m11.0 MB/s\u001b[0m eta \u001b[36m0:00:00\u001b[0m\n",
      "\u001b[?25hInstalling collected packages: trimesh\n",
      "Successfully installed trimesh-4.6.8\n",
      "Note: you may need to restart the kernel to use updated packages.\n"
     ]
    }
   ],
   "source": [
    "pip install trimesh"
   ]
  },
  {
   "cell_type": "code",
   "execution_count": null,
   "id": "40bd389c-dfa4-4518-b573-64123e89dcce",
   "metadata": {},
   "outputs": [],
   "source": []
  }
 ],
 "metadata": {
  "kernelspec": {
   "display_name": "Python 3 (ipykernel)",
   "language": "python",
   "name": "python3"
  },
  "language_info": {
   "codemirror_mode": {
    "name": "ipython",
    "version": 3
   },
   "file_extension": ".py",
   "mimetype": "text/x-python",
   "name": "python",
   "nbconvert_exporter": "python",
   "pygments_lexer": "ipython3",
   "version": "3.12.7"
  }
 },
 "nbformat": 4,
 "nbformat_minor": 5
}
