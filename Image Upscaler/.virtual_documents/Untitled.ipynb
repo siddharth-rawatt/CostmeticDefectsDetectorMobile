import numpy as np
import trimesh
from trimesh.creation import box, cylinder, icosphere

# Create the platform (14 x 12 x 0.2 inches)
platform = box(extents=[14, 12, 0.2])
platform.apply_translation([0, 0, 0.1])  # Raise it above ground slightly

# Create the phone (4 x 2 x 0.1 inches) as a simple box
phone = box(extents=[4, 2, 0.1])
phone.apply_translation([0, 0, 0.25])  # Positioned on top of platform

# Create the charging cable (a cylinder)
cable = cylinder(radius=0.05, height=6, sections=32)
cable.apply_transform(trimesh.transformations.rotation_matrix(
    np.radians(90), [0, 1, 0]))  # Rotate to lie horizontally
cable.apply_translation([3, 0, 0.25])  # From phone edge to platform

# Create the lighting frame (wireframe sphere) - using an icosphere approximation
lighting_sphere = icosphere(radius=8, subdivisions=3)

# Combine all parts
scene = trimesh.Scene()
scene.add_geometry(platform, node_name='Platform')
scene.add_geometry(phone, node_name='Phone')
scene.add_geometry(cable, node_name='Cable')
scene.add_geometry(lighting_sphere, node_name='LightingFrame')

# Export the full scene to a .glb (which Blender can import directly)
output_path = "/Users/siddharth/Documents/Semester 4/ACES project/Modelling/Phone_Display_Setup.glb"
scene.export(output_path)

output_path






pip install trimesh



